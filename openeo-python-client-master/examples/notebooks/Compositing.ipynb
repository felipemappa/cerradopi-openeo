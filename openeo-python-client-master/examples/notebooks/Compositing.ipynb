{
 "cells": [
  {
   "cell_type": "markdown",
   "metadata": {},
   "source": [
    "# Open-EO Proof Of Concept: Compositing\n",
    "This notebook explains and demonstrates the OpenEO client API, as well as some concepts of the core API."
   ]
  },
  {
   "cell_type": "markdown",
   "metadata": {},
   "source": [
    "The OpenEO API can be accesed with the `openeo` client Python module. The dependencies of this module are limited to a set of well known modules such as numpy and pandas. This should allow it to run in different environments, and as part of larger workflows.\n",
    "\n",
    "Let's get started with importing the module."
   ]
  },
  {
   "cell_type": "code",
   "execution_count": 1,
   "metadata": {},
   "outputs": [],
   "source": [
    "import openeo\n",
    "import logging\n",
    "import pathlib"
   ]
  },
  {
   "cell_type": "code",
   "execution_count": 2,
   "metadata": {},
   "outputs": [],
   "source": [
    "# logging.basicConfig(level=logging.DEBUG)"
   ]
  },
  {
   "cell_type": "markdown",
   "metadata": {},
   "source": [
    "To connect with an OpenEO backend, we create a session. Each OpenEO backend has a different endpoint, metadata and credentials. A session object contains this information, and is the starting point for subsequent calls. "
   ]
  },
  {
   "cell_type": "code",
   "execution_count": 3,
   "metadata": {},
   "outputs": [],
   "source": [
    "session = openeo.session(\"nobody\", \"http://openeo.vgt.vito.be/openeo/0.4.0\")"
   ]
  },
  {
   "cell_type": "markdown",
   "metadata": {},
   "source": [
    "## Loading a collection\n",
    "\n",
    "Our first use case is to create a composite image by taking the maximum pixel value over a timeseries of images.\n",
    "To do this, we first need to select input data. Each OpenEO endpoint exposes it's own list of image collections."
   ]
  },
  {
   "cell_type": "code",
   "execution_count": 5,
   "metadata": {
    "scrolled": false
   },
   "outputs": [
    {
     "data": {
      "text/plain": [
       "['CGS_SENTINEL2_RADIOMETRY_V102_001',\n",
       " 'S2_FAPAR_V102_WEBMERCATOR2',\n",
       " 'S2_FCOVER_PYRAMID',\n",
       " 'S2_FAPAR_SCENECLASSIFICATION_V102_PYRAMID',\n",
       " 'S1_GRD_SIGMA0_DESCENDING',\n",
       " 'BIOPAR_FAPAR_V1_GLOBAL',\n",
       " 'S1_GRD_SIGMA0_ASCENDING',\n",
       " 'PROBAV_L3_S10_TOC_NDVI_333M_V2']"
      ]
     },
     "execution_count": 5,
     "metadata": {},
     "output_type": "execute_result"
    }
   ],
   "source": [
    "session.list_collection_ids()"
   ]
  },
  {
   "cell_type": "markdown",
   "metadata": {},
   "source": [
    "Let's take Sentinel-2 radiometry data."
   ]
  },
  {
   "cell_type": "code",
   "execution_count": 6,
   "metadata": {},
   "outputs": [
    {
     "data": {
      "text/plain": [
       "{'bands': [{'band_id': '2',\n",
       "   'name': 'blue',\n",
       "   'offset': 0,\n",
       "   'res_m': 10,\n",
       "   'scale': 0.0001,\n",
       "   'type': 'int16',\n",
       "   'unit': '1',\n",
       "   'wavelength_nm': 496.6},\n",
       "  {'band_id': '3',\n",
       "   'name': 'green',\n",
       "   'offset': 0,\n",
       "   'res_m': 10,\n",
       "   'scale': 0.0001,\n",
       "   'type': 'int16',\n",
       "   'unit': '1',\n",
       "   'wavelength_nm': 560},\n",
       "  {'band_id': '4',\n",
       "   'name': 'red',\n",
       "   'offset': 0,\n",
       "   'res_m': 10,\n",
       "   'scale': 0.0001,\n",
       "   'type': 'int16',\n",
       "   'unit': '1',\n",
       "   'wavelength_nm': 664.5},\n",
       "  {'band_id': '8',\n",
       "   'name': 'nir',\n",
       "   'offset': 0,\n",
       "   'res_m': 10,\n",
       "   'scale': 0.0001,\n",
       "   'type': 'int16',\n",
       "   'unit': '1',\n",
       "   'wavelength_nm': 835.1}],\n",
       " 'data_id': 'CGS_SENTINEL2_RADIOMETRY_V102_EARLY',\n",
       " 'description': 'Sentinel 2 Level-2: Bottom-of-atmosphere reflectances in cartographic geometry, provided by Terrascope.',\n",
       " 'extent': {'crs': 'EPSG:3857',\n",
       "  'spatial': [180, -56, -180, 83],\n",
       "  'temporal': ['2015-07-06', None]},\n",
       " 'id': 'CGS_SENTINEL2_RADIOMETRY_V102_001',\n",
       " 'license': 'free',\n",
       " 'links': [{'href': 'https://terrascope.be/en/products',\n",
       "   'rel': 'alternate',\n",
       "   'title': 'Product web page.'}],\n",
       " 'name': 'CGS_SENTINEL2_RADIOMETRY_V102_001',\n",
       " 'product_id': 'CGS_SENTINEL2_RADIOMETRY_V102_001',\n",
       " 'source': 'Terrascope - VITO',\n",
       " 'title': 'Sentinel 2 Bottom-of-atmosphere reflectances.'}"
      ]
     },
     "execution_count": 6,
     "metadata": {},
     "output_type": "execute_result"
    }
   ],
   "source": [
    "collection_id = \"CGS_SENTINEL2_RADIOMETRY_V102_001\"\n",
    "session.describe_collection(collection_id)"
   ]
  },
  {
   "cell_type": "markdown",
   "metadata": {},
   "source": [
    "In the client code we create a so called image collection, which is a thin reference to this data and allows to build on that with further operations."
   ]
  },
  {
   "cell_type": "code",
   "execution_count": 7,
   "metadata": {},
   "outputs": [
    {
     "data": {
      "text/plain": [
       "<openeo.rest.imagecollectionclient.ImageCollectionClient at 0x7f57d56ca278>"
      ]
     },
     "execution_count": 7,
     "metadata": {},
     "output_type": "execute_result"
    }
   ],
   "source": [
    "s2_radiometry = session.imagecollection(collection_id)\n",
    "s2_radiometry"
   ]
  },
  {
   "cell_type": "markdown",
   "metadata": {},
   "source": [
    "As the data covered by the image collection can be quite large, a first step is usually to define a spatial and temporal subset on which we want to operate. This can be done by specifying a date range and a bounding box:"
   ]
  },
  {
   "cell_type": "code",
   "execution_count": 8,
   "metadata": {},
   "outputs": [
    {
     "data": {
      "text/plain": [
       "<openeo.rest.imagecollectionclient.ImageCollectionClient at 0x7f57d56d8668>"
      ]
     },
     "execution_count": 8,
     "metadata": {},
     "output_type": "execute_result"
    }
   ],
   "source": [
    "timeseries = s2_radiometry\\\n",
    ".filter_temporal(\"2017-10-14\",\"2017-10-17\")\\\n",
    ".filter_bbox(west=761104,east=763281,south=6543830,north=6544655,crs=\"EPSG:3857\")\n",
    "timeseries"
   ]
  },
  {
   "cell_type": "markdown",
   "metadata": {},
   "source": [
    "## Calculating NDVI\n",
    "\n",
    "We can calculate the NDVI based on the bands of the data using standard mathematical operators."
   ]
  },
  {
   "cell_type": "code",
   "execution_count": 9,
   "metadata": {},
   "outputs": [
    {
     "data": {
      "text/plain": [
       "<openeo.rest.imagecollectionclient.ImageCollectionClient at 0x7f57d56d8c88>"
      ]
     },
     "execution_count": 9,
     "metadata": {},
     "output_type": "execute_result"
    }
   ],
   "source": [
    "band_red = timeseries.band('2')\n",
    "band_nir = timeseries.band('3')\n",
    "ndvi_timeseries = (band_nir - band_red) / (band_nir + band_red)\n",
    "ndvi_timeseries"
   ]
  },
  {
   "cell_type": "markdown",
   "metadata": {},
   "source": [
    "Now we're all set to compute the composite, the `max_time` function allows us to specify the function that needs to be applied, but does not yet compute a result:"
   ]
  },
  {
   "cell_type": "code",
   "execution_count": 10,
   "metadata": {},
   "outputs": [
    {
     "data": {
      "text/plain": [
       "<openeo.rest.imagecollectionclient.ImageCollectionClient at 0x7f57d56d8630>"
      ]
     },
     "execution_count": 10,
     "metadata": {},
     "output_type": "execute_result"
    }
   ],
   "source": [
    "composite = ndvi_timeseries.max_time()\n",
    "composite"
   ]
  },
  {
   "cell_type": "markdown",
   "metadata": {},
   "source": [
    "Up to this point, the OpenEO backend has not yet received a request for an actual computation. At the client side, we have only been building what is called a 'process graph' in OpenEO terms, which just describes the operations we want to execute"
   ]
  },
  {
   "cell_type": "code",
   "execution_count": 11,
   "metadata": {},
   "outputs": [
    {
     "name": "stdout",
     "output_type": "stream",
     "text": [
      "{'filterbbox1': {'process_id': 'filter_bbox', 'result': False, 'arguments': {'data': {'from_node': 'filtertemporal1'}, 'extent': {'crs': 'EPSG:3857', 'west': 761104, 'south': 6543830, 'east': 763281, 'north': 6544655}}}, 'reduce1': {'process_id': 'reduce', 'result': False, 'arguments': {'data': {'from_node': 'filterbbox1'}, 'dimension': 'spectral_bands', 'reducer': {'callback': {'arrayelement4': {'process_id': 'array_element', 'result': False, 'arguments': {'data': {'from_argument': 'data'}, 'index': 0}}, 'sum1': {'process_id': 'sum', 'result': False, 'arguments': {'data': [{'from_node': 'arrayelement3'}, {'from_node': 'arrayelement4'}]}}, 'arrayelement1': {'process_id': 'array_element', 'result': False, 'arguments': {'data': {'from_argument': 'data'}, 'index': 1}}, 'arrayelement3': {'process_id': 'array_element', 'result': False, 'arguments': {'data': {'from_argument': 'data'}, 'index': 1}}, 'divide1': {'process_id': 'divide', 'result': True, 'arguments': {'data': [{'from_node': 'subtract1'}, {'from_node': 'sum1'}]}}, 'subtract1': {'process_id': 'subtract', 'result': False, 'arguments': {'data': [{'from_node': 'arrayelement1'}, {'from_node': 'arrayelement2'}]}}, 'arrayelement2': {'process_id': 'array_element', 'result': False, 'arguments': {'data': {'from_argument': 'data'}, 'index': 0}}}}}}, 'loadcollection1': {'process_id': 'load_collection', 'result': False, 'arguments': {'temporal_extent': None, 'id': 'CGS_SENTINEL2_RADIOMETRY_V102_001', 'spatial_extent': None}}, 'reduce2': {'process_id': 'reduce', 'result': False, 'arguments': {'data': {'from_node': 'reduce1'}, 'dimension': 'temporal', 'reducer': {'callback': {'r1': {'process_id': 'max', 'result': True, 'arguments': {'data': {'from_argument': 'data'}}}}}}}, 'filtertemporal1': {'process_id': 'filter_temporal', 'result': False, 'arguments': {'data': {'from_node': 'loadcollection1'}, 'extent': ['2017-04-01', '2017-08-01']}}}\n"
     ]
    }
   ],
   "source": [
    "print(composite.graph)"
   ]
  },
  {
   "cell_type": "markdown",
   "metadata": {},
   "source": [
    "We can do a few things with a process graph, let's start with downloading its result as a GeoTiff:"
   ]
  },
  {
   "cell_type": "code",
   "execution_count": 12,
   "metadata": {},
   "outputs": [
    {
     "name": "stdout",
     "output_type": "stream",
     "text": [
      "Downloaded: Compositing.output/ndvi.geotiff (524953 bytes)\n",
      "CPU times: user 11.1 ms, sys: 265 µs, total: 11.4 ms\n",
      "Wall time: 12.3 s\n"
     ]
    }
   ],
   "source": [
    "%%time\n",
    "output_dir = pathlib.Path('Compositing.output')\n",
    "if not output_dir.exists():\n",
    "    output_dir.mkdir()\n",
    "output_file = output_dir / \"ndvi.geotiff\"\n",
    "\n",
    "composite.download(str(output_file), format=\"geotiff\")\n",
    "\n",
    "print(\"Downloaded: {f} ({b} bytes)\".format(f=output_file, b=output_file.stat().st_size))"
   ]
  },
  {
   "cell_type": "markdown",
   "metadata": {},
   "source": [
    "This particular composite took tens of seconds to compute over a couple of months worth of input data. This shows one of the key points of OpenEO: the algorithm gets distributed over processing resources close to the data, which can greatly speed up processing.\n",
    "\n",
    "Now it's time to inspect our result. One way is to use gdalinfo:"
   ]
  },
  {
   "cell_type": "code",
   "execution_count": 13,
   "metadata": {},
   "outputs": [
    {
     "name": "stdout",
     "output_type": "stream",
     "text": [
      "Driver: GTiff/GeoTIFF\n",
      "Files: Compositing.output/ndvi.geotiff\n",
      "       Compositing.output/ndvi.geotiff.aux.xml\n",
      "Size is 512, 256\n",
      "Coordinate System is:\n",
      "PROJCS[\"WGS 84 / Pseudo-Mercator\",\n",
      "    GEOGCS[\"WGS 84\",\n",
      "        DATUM[\"WGS_1984\",\n",
      "            SPHEROID[\"WGS 84\",6378137,298.257223563,\n",
      "                AUTHORITY[\"EPSG\",\"7030\"]],\n",
      "            AUTHORITY[\"EPSG\",\"6326\"]],\n",
      "        PRIMEM[\"Greenwich\",0,\n",
      "            AUTHORITY[\"EPSG\",\"8901\"]],\n",
      "        UNIT[\"degree\",0.0174532925199433,\n",
      "            AUTHORITY[\"EPSG\",\"9122\"]],\n",
      "        AUTHORITY[\"EPSG\",\"4326\"]],\n",
      "    PROJECTION[\"Mercator_1SP\"],\n",
      "    PARAMETER[\"central_meridian\",0],\n",
      "    PARAMETER[\"scale_factor\",1],\n",
      "    PARAMETER[\"false_easting\",0],\n",
      "    PARAMETER[\"false_northing\",0],\n",
      "    UNIT[\"metre\",1,\n",
      "        AUTHORITY[\"EPSG\",\"9001\"]],\n",
      "    AXIS[\"X\",EAST],\n",
      "    AXIS[\"Y\",NORTH],\n",
      "    EXTENSION[\"PROJ4\",\"+proj=merc +a=6378137 +b=6378137 +lat_ts=0.0 +lon_0=0.0 +x_0=0.0 +y_0=0 +k=1.0 +units=m +nadgrids=@null +wktext +no_defs\"],\n",
      "    AUTHORITY[\"EPSG\",\"3857\"]]\n",
      "Origin = (760701.305494075524621,6545455.606116212904453)\n",
      "Pixel Size = (9.554628535646998,-9.554628535646771)\n",
      "Metadata:\n",
      "  AREA_OR_POINT=Area\n",
      "Image Structure Metadata:\n",
      "  INTERLEAVE=BAND\n",
      "Corner Coordinates:\n",
      "Upper Left  (  760701.305, 6545455.606) (  6d50' 0.59\"E, 50d34' 9.42\"N)\n",
      "Lower Left  (  760701.305, 6543009.621) (  6d50' 0.59\"E, 50d33'19.17\"N)\n",
      "Upper Right (  765593.275, 6545455.606) (  6d52'38.79\"E, 50d34' 9.42\"N)\n",
      "Lower Right (  765593.275, 6543009.621) (  6d52'38.79\"E, 50d33'19.17\"N)\n",
      "Center      (  763147.290, 6544232.614) (  6d51'19.69\"E, 50d33'44.30\"N)\n",
      "Band 1 Block=512x7 Type=Float32, ColorInterp=Gray\n",
      "  Min=425.000 Max=3661.000 \n",
      "  Minimum=425.000, Maximum=3661.000, Mean=989.403, StdDev=411.666\n",
      "  256 buckets from 418.655 to 3667.35:\n",
      "  46 50 103 163 213 319 378 567 645 834 1076 1189 1324 1490 1820 1783 1835 1971 1844 2251 2286 2408 2540 2750 2614 2726 2385 2430 2525 2397 2243 2264 2285 2443 2371 2437 2564 2211 2351 2336 2090 2044 2146 2102 1885 1916 1907 1745 1657 1765 1416 1454 1470 1224 1348 1040 1021 1048 977 817 764 725 630 533 572 478 587 510 485 410 371 399 377 282 272 264 258 286 323 267 247 281 195 250 249 252 228 258 241 197 230 205 198 182 187 178 171 152 138 190 212 181 161 187 117 148 168 138 165 162 159 100 126 125 122 108 99 148 123 119 106 73 106 83 117 120 90 85 83 92 95 55 92 55 76 104 84 54 67 73 74 84 64 54 58 72 64 36 73 41 53 75 39 68 57 68 48 51 56 97 51 58 67 52 42 55 86 50 49 54 54 48 33 31 46 42 29 31 43 24 51 24 34 23 36 34 23 25 18 16 20 4 18 20 20 25 22 24 6 31 17 8 16 16 11 8 6 5 11 4 12 8 15 2 14 0 6 21 4 10 0 0 10 6 6 0 8 1 0 0 4 0 4 0 2 0 2 0 4 0 0 0 0 0 0 0 2 2 0 0 0 2 0 0 0 14 \n",
      "  NoData Value=nan\n",
      "  Metadata:\n",
      "    STATISTICS_APPROXIMATE=YES\n",
      "    STATISTICS_MAXIMUM=3661\n",
      "    STATISTICS_MEAN=989.40307228348\n",
      "    STATISTICS_MINIMUM=425\n",
      "    STATISTICS_STDDEV=411.66619714293\n",
      "    STATISTICS_VALID_PERCENT=90.11\n"
     ]
    }
   ],
   "source": [
    "!gdalinfo -hist $output_file"
   ]
  },
  {
   "cell_type": "markdown",
   "metadata": {},
   "source": [
    "## Retrieving a timeseries for a point\n",
    "\n",
    "Instead of reducing our timeseries of images into a composite, we can also request each value for a given geographical coordinate. \n",
    "\n",
    "This call can be executed directly on the timeseries that we defined earlier:"
   ]
  },
  {
   "cell_type": "code",
   "execution_count": 14,
   "metadata": {},
   "outputs": [
    {
     "name": "stdout",
     "output_type": "stream",
     "text": [
      "{'2017-05-10T00:00:00+00:00': [499.0], '2017-07-04T00:00:00+00:00': [1797.0], '2017-06-02T00:00:00+00:00': [nan], '2017-04-30T00:00:00+00:00': [908.0], '2017-05-23T00:00:00+00:00': [1384.0], '2017-06-19T00:00:00+00:00': [496.0], '2017-07-22T00:00:00+00:00': [1930.0], '2017-04-20T00:00:00+00:00': [986.0], '2017-07-07T00:00:00+00:00': [1109.0], '2017-07-14T00:00:00+00:00': [514.0], '2017-07-09T00:00:00+00:00': [1348.0], '2017-07-19T00:00:00+00:00': [963.0], '2017-05-30T00:00:00+00:00': [1199.0], '2017-07-12T00:00:00+00:00': [nan], '2017-05-13T00:00:00+00:00': [507.0], '2017-04-03T00:00:00+00:00': [875.0], '2017-06-22T00:00:00+00:00': [269.0], '2017-06-12T00:00:00+00:00': [977.0], '2017-05-03T00:00:00+00:00': [nan], '2017-04-23T00:00:00+00:00': [nan], '2017-07-29T00:00:00+00:00': [nan], '2017-04-13T00:00:00+00:00': [nan]}\n",
      "CPU times: user 611 µs, sys: 7.88 ms, total: 8.49 ms\n",
      "Wall time: 6.59 s\n"
     ]
    }
   ],
   "source": [
    "%%time\n",
    "point_timeseries = ndvi_timeseries.timeseries(6.84638, 50.56302, srs=\"EPSG:4326\")\n",
    "print(point_timeseries)"
   ]
  },
  {
   "cell_type": "code",
   "execution_count": 15,
   "metadata": {},
   "outputs": [
    {
     "data": {
      "text/plain": [
       "<matplotlib.axes._subplots.AxesSubplot at 0x7f57abe3a860>"
      ]
     },
     "execution_count": 15,
     "metadata": {},
     "output_type": "execute_result"
    },
    {
     "data": {
      "image/png": "[encoded data removed]",
      "text/plain": [
       "<Figure size 432x288 with 1 Axes>"
      ]
     },
     "metadata": {
      "needs_background": "light"
     },
     "output_type": "display_data"
    }
   ],
   "source": [
    "import pandas as pd\n",
    "%matplotlib inline\n",
    "\n",
    "df = pd.DataFrame.from_dict(point_timeseries, orient=\"index\")\n",
    "df.index = pd.to_datetime(df.index)\n",
    "df.dropna()[0].plot(marker='.', title='NDVI')"
   ]
  },
  {
   "cell_type": "code",
   "execution_count": null,
   "metadata": {},
   "outputs": [],
   "source": []
  },
  {
   "cell_type": "code",
   "execution_count": null,
   "metadata": {},
   "outputs": [],
   "source": []
  }
 ],
 "metadata": {
  "kernelspec": {
   "display_name": "Python 3",
   "language": "python",
   "name": "python3"
  },
  "language_info": {
   "codemirror_mode": {
    "name": "ipython",
    "version": 3
   },
   "file_extension": ".py",
   "mimetype": "text/x-python",
   "name": "python",
   "nbconvert_exporter": "python",
   "pygments_lexer": "ipython3",
   "version": "3.6.4"
  }
 },
 "nbformat": 4,
 "nbformat_minor": 2
}
